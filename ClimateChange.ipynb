{
  "cells": [
    {
      "cell_type": "markdown",
      "metadata": {
        "id": "CkbZgdelvhn1"
      },
      "source": [
        "# Climate Change Analysis and Weather Forecasting"
      ]
    },
    {
      "cell_type": "markdown",
      "metadata": {
        "id": "IGYvmvM4vHt5"
      },
      "source": [
        "## Task 1: Import Libraries"
      ]
    },
    {
      "cell_type": "code",
      "execution_count": null,
      "metadata": {
        "id": "pQRZpmNYu7UT"
      },
      "outputs": [],
      "source": [
        "import pandas as pd\n",
        "import seaborn as sns\n",
        "from prophet import Prophet\n",
        "import matplotlib.pyplot as plt\n",
        "import plotly.express as px\n",
        "import plotly.graph_objects as go"
      ]
    },
    {
      "cell_type": "markdown",
      "metadata": {
        "id": "m8PWUQNuvxP9"
      },
      "source": [
        "## Task 2: Load Dataset"
      ]
    },
    {
      "cell_type": "code",
      "execution_count": null,
      "metadata": {
        "colab": {
          "base_uri": "https://localhost:8080/"
        },
        "id": "BFbgVat7vwjH",
        "outputId": "6067d454-3614-4c8c-b85f-f6f4ef21190e"
      },
      "outputs": [],
      "source": [
        "# Load dataset into a pandas DataFrame\n",
        "df = pd.read_csv('/usercode/Dataset.csv')\n",
        "\n",
        "# Print the DataFrame head\n",
        "print(df.head())"
      ]
    },
    {
      "cell_type": "markdown",
      "metadata": {
        "id": "I36Y_LwYsWYK"
      },
      "source": [
        "## Task 3: Convert Date to Datetime Format"
      ]
    },
    {
      "cell_type": "code",
      "execution_count": null,
      "metadata": {
        "id": "27FtXHHFseaB"
      },
      "outputs": [],
      "source": [
        "df['Date'] = pd.to_datetime(df['Date'])"
      ]
    },
    {
      "cell_type": "markdown",
      "metadata": {
        "id": "bRQapper7oHC"
      },
      "source": [
        "## Task 4: Get Unique City Names"
      ]
    },
    {
      "cell_type": "code",
      "execution_count": null,
      "metadata": {
        "id": "0y14xMH_7lrZ"
      },
      "outputs": [],
      "source": [
        "cities = df['City'].unique()"
      ]
    },
    {
      "cell_type": "markdown",
      "metadata": {
        "id": "YGm8xvY7ru3G"
      },
      "source": [
        "## Task 5: Plot Average Daily Maximum and Minimum Temperatures by Cities"
      ]
    },
    {
      "cell_type": "code",
      "execution_count": null,
      "metadata": {
        "colab": {
          "base_uri": "https://localhost:8080/",
          "height": 1000
        },
        "id": "dWYMZLoettL_",
        "outputId": "6fb4e5ea-7a38-4efc-9327-1d10b85ecc56"
      },
      "outputs": [],
      "source": [
        "# Iterate over each city\n",
        "for city in cities:\n",
        "    # Create a figure and axis object for each city\n",
        "    fig, ax = plt.subplots(figsize=(10, 5))  # Set the width according to your preference\n",
        "\n",
        "    # Filter the data for the current city\n",
        "    city_data = df[df['City'] == city]\n",
        "\n",
        "    # Calculate the average maximum and minimum temperatures for each year\n",
        "    avg_max_temps = city_data.groupby(df['Year'])['tmax'].mean()\n",
        "    avg_min_temps = city_data.groupby(df['Year'])['tmin'].mean()\n",
        "\n",
        "    # Plot the average maximum and minimum temperatures as lines\n",
        "    ax.plot(avg_max_temps.index, avg_max_temps, label=f'{city} (Max Temp)')\n",
        "    ax.plot(avg_min_temps.index, avg_min_temps, label=f'{city} (Min Temp)')\n",
        "\n",
        "    # Set the labels and title for the graph\n",
        "    ax.set_xlabel('Year')\n",
        "    ax.set_ylabel('Temperature (°F)')\n",
        "    ax.set_title(f'Average Daily Maximum and Minimum Temperatures - {city}')\n",
        "\n",
        "    # Move the legend outside the graph and prevent it from overlapping\n",
        "    ax.legend(bbox_to_anchor=(1.05, 1), loc='upper left')\n",
        "\n",
        "    # Adjust the layout to make room for the legend\n",
        "    fig.tight_layout()\n",
        "\n",
        "    # Show the graph\n",
        "    plt.show()"
      ]
    },
    {
      "cell_type": "markdown",
      "metadata": {
        "id": "zHCtgCH3XrfZ"
      },
      "source": [
        "## Task 6: Plot Monthly Average Temperatures by Decades"
      ]
    },
    {
      "cell_type": "code",
      "execution_count": null,
      "metadata": {
        "colab": {
          "base_uri": "https://localhost:8080/",
          "height": 1000
        },
        "id": "N9z3oQMXXkB1",
        "outputId": "3737cba5-1261-475a-c170-f7a7bccff682"
      },
      "outputs": [],
      "source": [
        "# Define the decades\n",
        "decades = range(df['Year'].min() // 10 * 10, df['Year'].max() // 10 * 10 + 1, 10)\n",
        "\n",
        "# Define the order of months starting from January\n",
        "month_order = ['Jan', 'Feb', 'Mar', 'Apr', 'May', 'Jun', 'Jul', 'Aug', 'Sep', 'Oct', 'Nov', 'Dec']\n",
        "\n",
        "# Iterate over each city\n",
        "for city in cities:\n",
        "    # Filter the data for the current city\n",
        "    city_data = df[df['City'] == city].copy()  # Make a copy of the filtered DataFrame\n",
        "\n",
        "    # Group by decade and month, and calculate the average temperature\n",
        "    city_data['Decade'] = city_data['Year'] // 10 * 10\n",
        "    avg_by_decade = city_data.groupby(['Decade', 'Month']).mean(numeric_only=True).reset_index()\n",
        "\n",
        "    # Pivot the table to reshape the data\n",
        "    pivot_table = avg_by_decade.pivot(index='Decade', columns='Month', values='tavg')\n",
        "\n",
        "    # Rearrange the columns\n",
        "    pivot_table = pivot_table[month_order]\n",
        "\n",
        "    # Set the size of the heatmap\n",
        "    plt.figure(figsize=(10, 6))\n",
        "\n",
        "    # Create the heatmap\n",
        "    sns.heatmap(pivot_table, cmap='coolwarm', annot=True, fmt=\".1f\", cbar=True)\n",
        "\n",
        "    # Set the title and labels\n",
        "    plt.title(f\"Monthly Average Temperatures by Decades - {city}\")\n",
        "    plt.xlabel(\"Month\")\n",
        "    plt.ylabel(\"Decade\")\n",
        "\n",
        "    # Show the heatmap\n",
        "    plt.show()"
      ]
    },
    {
      "cell_type": "markdown",
      "metadata": {
        "id": "718ta1DB0VVg"
      },
      "source": [
        "## Task 7: Plot Average Yearly Precipitation by Cities"
      ]
    },
    {
      "cell_type": "code",
      "execution_count": null,
      "metadata": {
        "colab": {
          "base_uri": "https://localhost:8080/",
          "height": 1000
        },
        "id": "gbludjWai4st",
        "outputId": "de1a2e21-8e57-4d9f-ebf2-1c0e84dfa599"
      },
      "outputs": [],
      "source": [
        "# Group the data by 'City' and 'Year' and calculate the average precipitation for each city and year\n",
        "average_precipitation = df.groupby(['City', 'Year'])['prcp'].mean()\n",
        "\n",
        "# Iterate over each city and create a separate plot for each\n",
        "for city in cities:\n",
        "    # Filter the data for the current city\n",
        "    city_data = average_precipitation[city]\n",
        "\n",
        "    # Create a list of years for the x-axis\n",
        "    years = city_data.index.tolist()\n",
        "\n",
        "    # Create a list of average precipitation values for the y-axis\n",
        "    averages = city_data.tolist()\n",
        "\n",
        "    # Set the graph size\n",
        "    plt.figure(figsize=(10, 6))\n",
        "\n",
        "    # Plot the average yearly precipitation for the current city\n",
        "    plt.plot(years, averages, marker='o')\n",
        "\n",
        "    # Set the x-axis label, y-axis label, and plot title\n",
        "    plt.xlabel('Year')\n",
        "    plt.ylabel('Average Yearly Precipitation (in)')\n",
        "    plt.title(f'Average Yearly Precipitation for {city}')\n",
        "\n",
        "    # Display the plot\n",
        "    plt.grid(True)\n",
        "    plt.show()"
      ]
    },
    {
      "cell_type": "markdown",
      "metadata": {
        "id": "SPr5AbkZ0yx7"
      },
      "source": [
        "## Task 8: Plot Temperature and Moving Average by Cities"
      ]
    },
    {
      "cell_type": "code",
      "execution_count": null,
      "metadata": {
        "colab": {
          "base_uri": "https://localhost:8080/",
          "height": 1000
        },
        "id": "10VyxDU1z3lq",
        "outputId": "c63e697b-b6ea-4c0d-9087-ebbf02335e93"
      },
      "outputs": [],
      "source": [
        "# Set the rolling window size for the moving average\n",
        "rolling_window_size = 30\n",
        "\n",
        "# Create a separate plot for each city\n",
        "for city in cities:\n",
        "    # Filter the data for the specific city\n",
        "    city_data = df[df[\"City\"] == city].copy()\n",
        "\n",
        "    # Calculate the moving average of the 'tavg' column\n",
        "    city_data['tavg_ma'] = city_data['tavg'].rolling(rolling_window_size).mean()\n",
        "\n",
        "    # Create a plotly figure\n",
        "    fig = go.Figure()\n",
        "\n",
        "    # Add traces for the original temperature data and moving average\n",
        "    fig.add_trace(go.Scatter(x=city_data['Date'], y=city_data['tavg'], mode='lines', name='Original Temperature'))\n",
        "    fig.add_trace(go.Scatter(x=city_data['Date'], y=city_data['tavg_ma'], mode='lines', name='Moving Average'))\n",
        "\n",
        "    # Configure the layout\n",
        "    fig.update_layout(\n",
        "        title=f'Temperature Data and Moving Average for {city}',\n",
        "        xaxis_title='Date',\n",
        "        yaxis_title='Temperature (°F)',\n",
        "        hovermode='x',\n",
        "        legend=dict(x=0.7, y=0.9),\n",
        "        template='plotly_white'\n",
        "    )\n",
        "\n",
        "    # Show the interactive plot\n",
        "    fig.show()"
      ]
    },
    {
      "cell_type": "markdown",
      "metadata": {
        "id": "Y1uU0LCC7ER7"
      },
      "source": [
        "## Task 9: Select and Rename Relevant Columns"
      ]
    },
    {
      "cell_type": "code",
      "execution_count": null,
      "metadata": {
        "id": "EWm-HQ62tzi1"
      },
      "outputs": [],
      "source": [
        "# Select the relevant columns\n",
        "df = pd.DataFrame(df, columns=['Date', 'tavg', 'City'])\n",
        "\n",
        "# Rename the columns\n",
        "df.rename(columns={\"Date\": \"ds\", \"tavg\": \"y\"}, inplace=True)"
      ]
    },
    {
      "cell_type": "markdown",
      "metadata": {
        "id": "ql2_jd0k67pD"
      },
      "source": [
        "## Task 10: Generate Weather Forecasts for Next Five Years"
      ]
    },
    {
      "cell_type": "code",
      "execution_count": null,
      "metadata": {
        "colab": {
          "base_uri": "https://localhost:8080/",
          "height": 1000
        },
        "id": "tTlx0j6M-XD6",
        "outputId": "c18a6913-8764-4847-9806-cd1110e5e9c0"
      },
      "outputs": [],
      "source": [
        "# Iterate over each city and create a separate graph for each\n",
        "for city in cities:\n",
        "    # Filter the data for the current city\n",
        "    city_data = df[df['City'] == city]\n",
        "\n",
        "    # Create a Prophet model\n",
        "    model = Prophet(daily_seasonality=True)\n",
        "\n",
        "    # Fit the model with the city-specific data\n",
        "    model.fit(city_data)\n",
        "\n",
        "    # Generate future dates for prediction (next five years)\n",
        "    future_dates = model.make_future_dataframe(periods=365*5)\n",
        "\n",
        "    # Make predictions for the future dates\n",
        "    forecast = model.predict(future_dates)\n",
        "\n",
        "    # Set the graph size\n",
        "    plt.figure(figsize=(10, 6))\n",
        "\n",
        "    # Plot the overall trend\n",
        "    model.plot(forecast, xlabel='Year', ylabel='Temperature')\n",
        "\n",
        "    # Set the plot title\n",
        "    plt.title(f'Temperature Forecast for {city}')\n",
        "\n",
        "    # Display the plot\n",
        "    plt.show()\n",
        "\n",
        "    # Plot the components: trend, yearly seasonality, and weekly seasonality\n",
        "    fig = model.plot_components(forecast)"
      ]
    }
  ],
  "metadata": {
    "accelerator": "GPU",
    "colab": {
      "gpuType": "T4",
      "provenance": []
    },
    "kernelspec": {
      "display_name": "Python 3",
      "language": "python",
      "name": "python3"
    },
    "language_info": {
      "codemirror_mode": {
        "name": "ipython",
        "version": 3
      },
      "file_extension": ".py",
      "mimetype": "text/x-python",
      "name": "python",
      "nbconvert_exporter": "python",
      "pygments_lexer": "ipython3",
      "version": "3.8.10 (default, May 26 2023, 14:05:08) \n[GCC 9.4.0]"
    },
    "vscode": {
      "interpreter": {
        "hash": "e7370f93d1d0cde622a1f8e1c04877d8463912d04d973331ad4851f04de6915a"
      }
    }
  },
  "nbformat": 4,
  "nbformat_minor": 0
}
